{
 "cells": [
  {
   "cell_type": "markdown",
   "id": "6d93e53c-0217-4c4e-9b02-4ea555207411",
   "metadata": {},
   "source": [
    "# **Data Science Tools and Ecosystem**"
   ]
  },
  {
   "cell_type": "markdown",
   "id": "06677b0e-888a-474a-b2c7-9477ab17ee7e",
   "metadata": {
    "panel-layout": {
     "height": 60.616668701171875,
     "visible": true,
     "width": 100
    }
   },
   "source": [
    "# In this notebook, Data Science Tools and Ecosystem are summarized."
   ]
  },
  {
   "cell_type": "markdown",
   "id": "2fd90cae-a2a0-47da-bf1d-e89689e0881d",
   "metadata": {
    "panel-layout": {
     "height": 148.90000915527344,
     "visible": true,
     "width": 100
    }
   },
   "source": [
    "**OBJETIVES**\n",
    "\n",
    "\n",
    "1) *Generate Titles*\n",
    "2) *Create a List of Programming Languages Used in Data Science* \n",
    "3) *Generate a Table*  \n",
    "4) *Define Objectives*\n",
    "5) *Develop Examples of Arithmetic Expressions*"
   ]
  },
  {
   "cell_type": "markdown",
   "id": "5a7d4c97-e1a3-48d8-8dd2-7d4daa222467",
   "metadata": {
    "panel-layout": {
     "height": 114.60000610351562,
     "visible": true,
     "width": 100
    }
   },
   "source": [
    "Some of the popular languages that Data Scientists use are:\n",
    "1) Java\n",
    "2) Python\n",
    "3) C++"
   ]
  },
  {
   "cell_type": "markdown",
   "id": "dc9192f5-cb77-4a19-9f45-e29d3e415629",
   "metadata": {
    "panel-layout": {
     "height": 114.60000610351562,
     "visible": true,
     "width": 100
    }
   },
   "source": [
    "Some of the commonly used libraries used by Data Scientists include:\n",
    "1. NumPy\n",
    "2. Pandas\n",
    "3. Matplotlib"
   ]
  },
  {
   "cell_type": "markdown",
   "id": "1e2d1562-1191-4d0f-be28-9877720f36e4",
   "metadata": {
    "panel-layout": {
     "height": 164.75,
     "visible": true,
     "width": 100
    }
   },
   "source": [
    "Three development environment open source tools used in data science.\n",
    "| Data Science Tools      |\n",
    "|-------------------------|\n",
    "| Jupyter Notebook        |\n",
    "| RStudio                 |\n",
    "| Zeppelin Notebook       |\n"
   ]
  },
  {
   "cell_type": "markdown",
   "id": "808ca572-1620-469d-8e9c-d21a1f0225a9",
   "metadata": {
    "panel-layout": {
     "height": 44.083343505859375,
     "visible": true,
     "width": 100
    }
   },
   "source": [
    "### Below are a few examples of evaluating arithmetic expressions in Python.\n"
   ]
  },
  {
   "cell_type": "code",
   "execution_count": 44,
   "id": "b31fae3a-7ef4-4b17-b0b7-06b882cab57e",
   "metadata": {
    "panel-layout": {
     "height": 27.150009155273438,
     "visible": true,
     "width": 100
    }
   },
   "outputs": [
    {
     "data": {
      "text/plain": [
       "4"
      ]
     },
     "execution_count": 44,
     "metadata": {},
     "output_type": "execute_result"
    }
   ],
   "source": [
    "2+2"
   ]
  },
  {
   "cell_type": "code",
   "execution_count": 46,
   "id": "ab94ccc6-803c-47a3-a7f0-438fb28abe92",
   "metadata": {
    "panel-layout": {
     "height": 27.150009155273438,
     "visible": true,
     "width": 100
    }
   },
   "outputs": [
    {
     "data": {
      "text/plain": [
       "8"
      ]
     },
     "execution_count": 46,
     "metadata": {},
     "output_type": "execute_result"
    }
   ],
   "source": [
    "4*2"
   ]
  },
  {
   "cell_type": "code",
   "execution_count": 15,
   "id": "739a4881-8dc4-4555-b194-673cefe56954",
   "metadata": {},
   "outputs": [
    {
     "data": {
      "text/plain": [
       "6"
      ]
     },
     "execution_count": 15,
     "metadata": {},
     "output_type": "execute_result"
    }
   ],
   "source": [
    "8-2"
   ]
  },
  {
   "cell_type": "code",
   "execution_count": 46,
   "id": "479928fb-6007-42d5-ae6b-1f581e1c8f84",
   "metadata": {},
   "outputs": [
    {
     "data": {
      "text/plain": [
       "3.0"
      ]
     },
     "execution_count": 46,
     "metadata": {},
     "output_type": "execute_result"
    }
   ],
   "source": [
    "6/2"
   ]
  },
  {
   "cell_type": "markdown",
   "id": "8a254c37-fc8f-4174-a206-2b544d22b216",
   "metadata": {},
   "source": [
    "### This is a simple arithmetic expression to multiply then add integers"
   ]
  },
  {
   "cell_type": "code",
   "execution_count": 12,
   "id": "87956017-448c-4888-830a-9cdb66c91915",
   "metadata": {},
   "outputs": [
    {
     "name": "stdout",
     "output_type": "stream",
     "text": [
      "17\n"
     ]
    }
   ],
   "source": [
    "print ( (3 * 4) + 5)"
   ]
  },
  {
   "cell_type": "markdown",
   "id": "60a3859e-e4c1-4ccc-b47f-e675c915caa3",
   "metadata": {},
   "source": [
    "### This will convert 200 minutes to hours by diving by 60"
   ]
  },
  {
   "cell_type": "code",
   "execution_count": 9,
   "id": "b2f8ee0e-4e0f-48e4-b6d9-02e4e654096b",
   "metadata": {},
   "outputs": [
    {
     "name": "stdout",
     "output_type": "stream",
     "text": [
      "3.3333333333333335\n"
     ]
    }
   ],
   "source": [
    "print ( (200*1) /60)"
   ]
  },
  {
   "cell_type": "markdown",
   "id": "951306a2-bcad-4da0-b570-2e8487a3967f",
   "metadata": {},
   "source": [
    "## Author\n",
    "Carlos García"
   ]
  }
 ],
 "metadata": {
  "kernelspec": {
   "display_name": "Python [conda env:base] *",
   "language": "python",
   "name": "conda-base-py"
  },
  "language_info": {
   "codemirror_mode": {
    "name": "ipython",
    "version": 3
   },
   "file_extension": ".py",
   "mimetype": "text/x-python",
   "name": "python",
   "nbconvert_exporter": "python",
   "pygments_lexer": "ipython3",
   "version": "3.12.7"
  },
  "panel-cell-order": [
   "06677b0e-888a-474a-b2c7-9477ab17ee7e",
   "2fd90cae-a2a0-47da-bf1d-e89689e0881d",
   "5a7d4c97-e1a3-48d8-8dd2-7d4daa222467",
   "dc9192f5-cb77-4a19-9f45-e29d3e415629",
   "1e2d1562-1191-4d0f-be28-9877720f36e4",
   "808ca572-1620-469d-8e9c-d21a1f0225a9",
   "b31fae3a-7ef4-4b17-b0b7-06b882cab57e",
   "ab94ccc6-803c-47a3-a7f0-438fb28abe92"
  ]
 },
 "nbformat": 4,
 "nbformat_minor": 5
}
